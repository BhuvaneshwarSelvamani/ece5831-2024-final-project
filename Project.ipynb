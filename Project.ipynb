{
 "cells": [
  {
   "cell_type": "markdown",
   "id": "88f5422f",
   "metadata": {
    "id": "88f5422f"
   },
   "source": [
    "# KNN SVM LSTM GRU WITH ENSEMBLE"
   ]
  },
  {
   "cell_type": "markdown",
   "id": "afb45c77",
   "metadata": {
    "id": "afb45c77"
   },
   "source": [
    "# SEPARATE CODE"
   ]
  },
  {
   "cell_type": "code",
   "execution_count": 3,
   "id": "e94c3c72",
   "metadata": {
    "id": "e94c3c72"
   },
   "outputs": [],
   "source": [
    "import csv\n",
    "import copy\n",
    "import argparse\n",
    "import itertools\n",
    "from collections import Counter\n",
    "from collections import deque\n",
    "import pandas as pd\n",
    "import cv2\n",
    "import seaborn as sns\n",
    "import numpy as np\n",
    "import mediapipe as mp\n",
    "import time\n",
    "from matplotlib import pyplot as plt\n",
    "from sklearn import svm\n",
    "from sklearn.model_selection import train_test_split\n",
    "from sklearn.neighbors import KNeighborsClassifier\n",
    "from sklearn.preprocessing import MinMaxScaler\n",
    "from sklearn.metrics import classification_report,mean_squared_error, accuracy_score, confusion_matrix\n",
    "from tensorflow.keras.models import Sequential, load_model\n",
    "from tensorflow.keras.layers import Dense, LSTM, Dropout, GRU, Bidirectional, Input, Conv1D, MaxPooling1D, Flatten\n",
    "from tensorflow.keras.optimizers import Adam\n",
    "from tensorflow.keras.callbacks import ModelCheckpoint\n",
    "from keras.utils import to_categorical\n",
    "\n"
   ]
  },
  {
   "cell_type": "code",
   "execution_count": 4,
   "id": "d5f5306a",
   "metadata": {
    "id": "d5f5306a"
   },
   "outputs": [],
   "source": [
    "class TimerError(Exception):\n",
    "    \"\"\"A custom exception used to report errors in use of Timer class\"\"\"\n",
    "\n",
    "class Timer:\n",
    "    def __init__(self):\n",
    "        self._start_time = None\n",
    "\n",
    "    def start(self):\n",
    "        \"\"\"Start a new timer\"\"\"\n",
    "        if self._start_time is not None:\n",
    "            raise TimerError(f\"Timer is running. Use .stop() to stop it\")\n",
    "\n",
    "        self._start_time = time.perf_counter()\n",
    "\n",
    "    def show(self):\n",
    "        \"\"\"Stop the timer, and report the elapsed time\"\"\"\n",
    "        if self._start_time is None:\n",
    "            raise TimerError(f\"Timer is not running. Use .start() to start it\")\n",
    "\n",
    "        elapsed_time = time.perf_counter() - self._start_time\n",
    "        return elapsed_time\n",
    "    def stop(self):\n",
    "        self._start_time=None"
   ]
  },
  {
   "cell_type": "markdown",
   "id": "885d77aa",
   "metadata": {},
   "source": [
    "# Calculating Hand Landmarks"
   ]
  },
  {
   "cell_type": "code",
   "execution_count": 5,
   "id": "bd301bf5",
   "metadata": {
    "id": "bd301bf5"
   },
   "outputs": [],
   "source": [
    "# Function to calculate landmark list\n",
    "def calc_landmark_list(image, landmarks):\n",
    "    image_width, image_height = image.shape[1], image.shape[0]\n",
    "\n",
    "    landmark_point = []\n",
    "\n",
    "    # Iterate over each landmark point\n",
    "    for _, landmark in enumerate(landmarks.landmark):\n",
    "        # Convert normalized coordinates to pixel coordinates\n",
    "        landmark_x = min(int(landmark.x * image_width), image_width - 1)\n",
    "        landmark_y = min(int(landmark.y * image_height), image_height - 1)\n",
    "        # landmark_z = landmark.z  # Uncomment this line if you need the z-coordinate\n",
    "\n",
    "        # Append the pixel coordinates to the landmark_point list\n",
    "        landmark_point.append([landmark_x, landmark_y])\n",
    "\n",
    "    return landmark_point\n",
    "\n",
    "\n",
    "# Function to preprocess landmarks\n",
    "def pre_process_landmark(landmark_list):\n",
    "    # Implement your preprocessing logic here\n",
    "    temp_landmark_list = copy.deepcopy(landmark_list)\n",
    "\n",
    "    # Convert to relative coordinates\n",
    "    base_x, base_y = 0, 0\n",
    "    for index, landmark_point in enumerate(temp_landmark_list):\n",
    "        if index == 0:\n",
    "            base_x, base_y = landmark_point[0], landmark_point[1]\n",
    "\n",
    "        temp_landmark_list[index][0] = temp_landmark_list[index][0] - base_x\n",
    "        temp_landmark_list[index][1] = temp_landmark_list[index][1] - base_y\n",
    "\n",
    "    # Convert to a one-dimensional list\n",
    "    temp_landmark_list = list(\n",
    "        itertools.chain.from_iterable(temp_landmark_list))\n",
    "\n",
    "    # Normalization\n",
    "    max_value = max(list(map(abs, temp_landmark_list)))\n",
    "\n",
    "    def normalize_(n):\n",
    "        return n / max_value\n",
    "\n",
    "    temp_landmark_list = list(map(normalize_, temp_landmark_list))\n",
    "\n",
    "    return temp_landmark_list\n",
    "    pass\n"
   ]
  },
  {
   "cell_type": "markdown",
   "id": "f6246de0",
   "metadata": {
    "id": "f6246de0"
   },
   "source": [
    "# To Load A Label"
   ]
  },
  {
   "cell_type": "code",
   "execution_count": 21,
   "id": "781faf97",
   "metadata": {
    "id": "781faf97",
    "scrolled": true
   },
   "outputs": [
    {
     "name": "stdout",
     "output_type": "stream",
     "text": [
      "0\n",
      "\n",
      "1\n",
      "\n",
      "2\n",
      "\n",
      "3\n",
      "\n",
      "4\n",
      "\n",
      "7\n",
      "\n",
      "8\n",
      "\n",
      "9\n",
      "\n",
      "10\n",
      "\n",
      "11\n",
      "\n",
      "12\n",
      "\n",
      "13\n",
      "\n",
      "14\n",
      "\n",
      "15\n",
      "\n",
      "16\n",
      "\n",
      "17\n",
      "\n",
      "18\n",
      "\n",
      "19\n",
      "\n"
     ]
    }
   ],
   "source": [
    "mp_hands = mp.solutions.hands\n",
    "mp_drawing = mp.solutions.drawing_utils\n",
    "hands = mp_hands.Hands(min_detection_confidence=0.8, min_tracking_confidence=0.5)\n",
    "cap = cv2.VideoCapture(0)  # Use the appropriate index or video file path\n",
    "keyy = 1\n",
    "t = Timer()\n",
    "while keyy != 0:\n",
    "    label = input(\"Enter label\")\n",
    "    label=\" \"+label\n",
    "    with open('label.txt','r') as f:\n",
    "        la=f.read().split()\n",
    "        size=len(la)\n",
    "        print(size)\n",
    "    with open('label.txt','a+') as f:\n",
    "        print(f.read())\n",
    "        f.write(label)\n",
    "    t.start()\n",
    "    while t.show() < 120.0 and cap.isOpened():\n",
    "        ret, frame = cap.read()\n",
    "\n",
    "        # BGR 2 RGB\n",
    "        image = cv2.cvtColor(frame, cv2.COLOR_BGR2RGB)\n",
    "\n",
    "        # Flip on horizontal\n",
    "        image = cv2.flip(image, 1)\n",
    "        debug_image = copy.deepcopy(image)\n",
    "\n",
    "        # Set flag\n",
    "        image.flags.writeable = False\n",
    "\n",
    "        # Detections\n",
    "        results = hands.process(image)\n",
    "\n",
    "        # Set flag to true\n",
    "        image.flags.writeable = True\n",
    "\n",
    "        # RGB 2 BGR\n",
    "        image = cv2.cvtColor(image, cv2.COLOR_RGB2BGR)\n",
    "\n",
    "        # Rendering results\n",
    "        if results.multi_hand_landmarks:\n",
    "            for hand_landmarks, handedness in zip(results.multi_hand_landmarks, results.multi_handedness):\n",
    "                landmark_list = calc_landmark_list(debug_image, hand_landmarks)\n",
    "                l=pre_process_landmark(landmark_list)\n",
    "                l.insert(0,size)\n",
    "                #print(\"Iterations:\",l)\n",
    "                #print(pre_processed_landmark_list)\n",
    "                x, y, w, h = cv2.boundingRect(np.array(landmark_list))\n",
    "                cv2.rectangle(debug_image, (x, y), (x + w, y + h), (0, 255, 0), 2)\n",
    "                hand_label = \"Left Hand\" if handedness.classification[0].label == \"Left\" else \"Right Hand\"\n",
    "                cv2.putText(debug_image, hand_label, (x, y - 10), cv2.FONT_HERSHEY_SIMPLEX, 0.5, (255, 255, 255), 2)\n",
    "                mp_drawing.draw_landmarks(debug_image, hand_landmarks, mp_hands.HAND_CONNECTIONS,\n",
    "                                            mp_drawing.DrawingSpec(color=(121, 22, 76), thickness=2, circle_radius=4),\n",
    "                                            mp_drawing.DrawingSpec(color=(250, 44, 250), thickness=2, circle_radius=2),\n",
    "                                        )\n",
    "                with open(\"training_data.csv\",'a+',newline='') as f:\n",
    "                    writer=csv.writer(f)\n",
    "                    #print(l)\n",
    "                    writer.writerow(l)\n",
    "    keyy = int(input(\"Continue?\"))\n",
    "    t.stop()\n",
    "\n",
    "cap.release()\n",
    "cv2.destroyAllWindows()\n",
    "hands.close()"
   ]
  },
  {
   "cell_type": "markdown",
   "id": "dcb938e7",
   "metadata": {},
   "source": [
    "# Importing the dataset "
   ]
  },
  {
   "cell_type": "code",
   "execution_count": 6,
   "id": "58ac7e19",
   "metadata": {
    "colab": {
     "base_uri": "https://localhost:8080/"
    },
    "id": "58ac7e19",
    "outputId": "507aeb3d-cf05-4ef9-e818-00181863edda"
   },
   "outputs": [
    {
     "name": "stdout",
     "output_type": "stream",
     "text": [
      "{'open': 0, 'close': 1, 'pointer': 2, 'ok': 3, 'iloveyou': 4, 'Good': 5, 'Bad': 6, 'Peace': 7, 'Super': 8, 'Pray': 9, 'Stop': 10, 'Call': 11, 'Love': 12, 'No': 13, 'thank': 14, 'you': 15, 'Internet': 16, 'House': 17, 'food': 18, 'Chicken': 19, 'When': 20, 'What': 21, 'TV': 22, 'A': 23, 'alphabet_A': 24, 'alphabet_B': 25, 'alphabet_C': 26, 'alphabet_D': 27, '1': 28, 'alphabet_L': 29, 'alphabet_H': 30, 'alphabet_F': 31, 'alphabet_J': 32}\n"
     ]
    }
   ],
   "source": [
    "labels_file = 'label.txt'\n",
    "with open(labels_file, 'r') as f:\n",
    "    labels = f.read().split()\n",
    "\n",
    "data_file = 'training_data.csv'\n",
    "unique_words = set()\n",
    "with open(data_file, 'r') as f:\n",
    "    reader = csv.reader(f)\n",
    "    for row in reader:\n",
    "        unique_words.update(row)\n",
    "\n",
    "word_index = {word: index for index, word in enumerate(unique_words)}\n",
    "label_index_mapping = {label: index for index, label in enumerate(labels)}\n",
    "print(label_index_mapping)"
   ]
  },
  {
   "cell_type": "code",
   "execution_count": 7,
   "id": "a9fdd406",
   "metadata": {
    "colab": {
     "base_uri": "https://localhost:8080/",
     "height": 472
    },
    "id": "a9fdd406",
    "outputId": "20ce7c04-df26-4d1c-c371-015da9285d17"
   },
   "outputs": [
    {
     "name": "stdout",
     "output_type": "stream",
     "text": [
      "{'open': 0, 'close': 1, 'pointer': 2, 'ok': 3, 'iloveyou': 4, 'Good': 5, 'Bad': 6, 'Peace': 7, 'Super': 8, 'Pray': 9, 'Stop': 10, 'Call': 11, 'Love': 12, 'No': 13, 'thank': 14, 'you': 15, 'Internet': 16, 'House': 17, 'food': 18, 'Chicken': 19, 'When': 20, 'What': 21, 'TV': 22, 'A': 23, 'alphabet_A': 24, 'alphabet_B': 25, 'alphabet_C': 26, 'alphabet_D': 27, '1': 28, 'alphabet_L': 29, 'alphabet_H': 30, 'alphabet_F': 31, 'alphabet_J': 32}\n"
     ]
    },
    {
     "data": {
      "image/png": "[encoded data removed]",
      "text/plain": [
       "<Figure size 640x480 with 1 Axes>"
      ]
     },
     "metadata": {},
     "output_type": "display_data"
    }
   ],
   "source": [
    "data=pd.read_csv('training_data.csv',header=None)\n",
    "data.head()\n",
    "plt.scatter(data[0],data[1])\n",
    "plt.xlabel('labels')\n",
    "plt.ylabel('landmarks')\n",
    "plt.title('Scatter plot of dataset')\n",
    "plt.grid(True)\n",
    "gesture_mapping = {\n",
    "    'open': 0, 'close': 1, 'pointer': 2, 'ok': 3, 'iloveyou': 4, 'Good': 5, 'Bad': 6, 'Peace': 7, 'Super': 8, 'Pray': 9, 'Stop': 10, 'Call': 11, 'Love': 12, 'No': 13, 'thank': 14, 'you': 15, 'Internet': 16, 'House': 17, 'food': 18, \n",
    "    'Chicken': 19, 'When': 20, 'What': 21, 'TV': 22, 'A': 23, 'alphabet_A': 24, 'alphabet_B': 25, 'alphabet_C': 26, 'alphabet_D': 27, '1': 28, 'alphabet_L': 29, 'alphabet_H': 30, 'alphabet_F': 31, 'alphabet_J': 32\n",
    "}\n",
    "print(gesture_mapping)\n",
    "data=pd.read_csv('training_data.csv',header=None)\n",
    "data.head()\n",
    "plt.scatter(data[0],data[1])\n",
    "plt.xlabel('labels')\n",
    "plt.ylabel('landmarks')\n",
    "plt.title('Scatter plot of dataset')\n",
    "plt.grid(True)\n",
    "plt.show()\n",
    "\n"
   ]
  },
  {
   "cell_type": "markdown",
   "id": "53d23136",
   "metadata": {
    "id": "53d23136"
   },
   "source": [
    "# To Train the data"
   ]
  },
  {
   "cell_type": "code",
   "execution_count": 8,
   "id": "b2f23bac",
   "metadata": {
    "id": "b2f23bac"
   },
   "outputs": [],
   "source": [
    "y=data.iloc[:,0]\n",
    "x=data.iloc[:,1:]\n",
    "xtrain,xtest,ytrain,ytest=train_test_split(x,y,test_size=0.20,random_state=77)"
   ]
  },
  {
   "cell_type": "code",
   "execution_count": 9,
   "id": "f6882e0e",
   "metadata": {
    "colab": {
     "base_uri": "https://localhost:8080/"
    },
    "id": "f6882e0e",
    "outputId": "fd0c115f-f91a-489e-e09c-03a51f07b597"
   },
   "outputs": [
    {
     "data": {
      "text/plain": [
       "(30379,)"
      ]
     },
     "execution_count": 9,
     "metadata": {},
     "output_type": "execute_result"
    }
   ],
   "source": [
    "y.shape"
   ]
  },
  {
   "cell_type": "code",
   "execution_count": 10,
   "id": "6af60223",
   "metadata": {
    "colab": {
     "base_uri": "https://localhost:8080/"
    },
    "id": "6af60223",
    "outputId": "197feb01-6049-4f88-bae0-f1594ad4ea03"
   },
   "outputs": [
    {
     "data": {
      "text/plain": [
       "(30379, 42)"
      ]
     },
     "execution_count": 10,
     "metadata": {},
     "output_type": "execute_result"
    }
   ],
   "source": [
    "x.shape"
   ]
  },
  {
   "cell_type": "code",
   "execution_count": 11,
   "id": "1b455cda",
   "metadata": {
    "colab": {
     "base_uri": "https://localhost:8080/"
    },
    "id": "1b455cda",
    "outputId": "640938aa-62a9-4182-b2be-4fcd6baa471b"
   },
   "outputs": [
    {
     "data": {
      "text/plain": [
       "(24303, 42)"
      ]
     },
     "execution_count": 11,
     "metadata": {},
     "output_type": "execute_result"
    }
   ],
   "source": [
    "xtrain.shape"
   ]
  },
  {
   "cell_type": "code",
   "execution_count": 12,
   "id": "a80d461a",
   "metadata": {
    "colab": {
     "base_uri": "https://localhost:8080/"
    },
    "id": "a80d461a",
    "outputId": "8241cc2e-9cf4-471b-8158-82564b317321"
   },
   "outputs": [
    {
     "data": {
      "text/plain": [
       "(6076, 42)"
      ]
     },
     "execution_count": 12,
     "metadata": {},
     "output_type": "execute_result"
    }
   ],
   "source": [
    "xtest.shape"
   ]
  },
  {
   "cell_type": "code",
   "execution_count": 13,
   "id": "258929d3",
   "metadata": {
    "colab": {
     "base_uri": "https://localhost:8080/"
    },
    "id": "258929d3",
    "outputId": "a3422367-2db4-42f2-b04c-d494814b2b07"
   },
   "outputs": [
    {
     "data": {
      "text/plain": [
       "(24303,)"
      ]
     },
     "execution_count": 13,
     "metadata": {},
     "output_type": "execute_result"
    }
   ],
   "source": [
    "ytrain.shape"
   ]
  },
  {
   "cell_type": "code",
   "execution_count": 14,
   "id": "fbe593fb",
   "metadata": {
    "colab": {
     "base_uri": "https://localhost:8080/"
    },
    "id": "fbe593fb",
    "outputId": "29033293-a525-4b5f-eaaf-736d4b0a8725"
   },
   "outputs": [
    {
     "data": {
      "text/plain": [
       "(6076,)"
      ]
     },
     "execution_count": 14,
     "metadata": {},
     "output_type": "execute_result"
    }
   ],
   "source": [
    "ytest.shape"
   ]
  },
  {
   "cell_type": "code",
   "execution_count": 15,
   "id": "b5c6f9fc",
   "metadata": {
    "colab": {
     "base_uri": "https://localhost:8080/"
    },
    "id": "b5c6f9fc",
    "outputId": "64eaf3d1-7685-4b21-b172-f1c8867a3a87"
   },
   "outputs": [
    {
     "data": {
      "text/plain": [
       "[RangeIndex(start=0, stop=30379, step=1)]"
      ]
     },
     "execution_count": 15,
     "metadata": {},
     "output_type": "execute_result"
    }
   ],
   "source": [
    "y.axes"
   ]
  },
  {
   "cell_type": "code",
   "execution_count": 16,
   "id": "1f2639df",
   "metadata": {
    "colab": {
     "base_uri": "https://localhost:8080/"
    },
    "id": "1f2639df",
    "outputId": "4fd0bc9d-9c0a-45a3-bd6d-b63d145d69df"
   },
   "outputs": [
    {
     "data": {
      "text/plain": [
       "[RangeIndex(start=0, stop=30379, step=1),\n",
       " Index([ 1,  2,  3,  4,  5,  6,  7,  8,  9, 10, 11, 12, 13, 14, 15, 16, 17, 18,\n",
       "        19, 20, 21, 22, 23, 24, 25, 26, 27, 28, 29, 30, 31, 32, 33, 34, 35, 36,\n",
       "        37, 38, 39, 40, 41, 42],\n",
       "       dtype='int64')]"
      ]
     },
     "execution_count": 16,
     "metadata": {},
     "output_type": "execute_result"
    }
   ],
   "source": [
    "x.axes"
   ]
  },
  {
   "cell_type": "code",
   "execution_count": 17,
   "id": "79e0edaa",
   "metadata": {
    "colab": {
     "base_uri": "https://localhost:8080/"
    },
    "id": "79e0edaa",
    "outputId": "e2483adb-6da5-4293-c378-f32d5038dca2"
   },
   "outputs": [
    {
     "data": {
      "text/plain": [
       "30379"
      ]
     },
     "execution_count": 17,
     "metadata": {},
     "output_type": "execute_result"
    }
   ],
   "source": [
    "y.size\n"
   ]
  },
  {
   "cell_type": "code",
   "execution_count": 18,
   "id": "29653ac6",
   "metadata": {
    "colab": {
     "base_uri": "https://localhost:8080/"
    },
    "id": "29653ac6",
    "outputId": "9d049329-3adb-406e-b722-e0a7afe0a8ce"
   },
   "outputs": [
    {
     "data": {
      "text/plain": [
       "1275918"
      ]
     },
     "execution_count": 18,
     "metadata": {},
     "output_type": "execute_result"
    }
   ],
   "source": [
    "x.size"
   ]
  },
  {
   "cell_type": "markdown",
   "id": "4d8bc07b",
   "metadata": {
    "id": "4d8bc07b"
   },
   "source": [
    "# Normalizing the data"
   ]
  },
  {
   "cell_type": "code",
   "execution_count": 19,
   "id": "c2ef8042",
   "metadata": {
    "id": "c2ef8042"
   },
   "outputs": [],
   "source": [
    "scaler = MinMaxScaler(feature_range=(0, 1))\n",
    "xtrain_scaled = scaler.fit_transform(xtrain)\n",
    "xtest_scaled = scaler.transform(xtest)"
   ]
  },
  {
   "cell_type": "markdown",
   "id": "fa99c1b0",
   "metadata": {
    "id": "fa99c1b0"
   },
   "source": [
    "# To calculate accuracy for KNN"
   ]
  },
  {
   "cell_type": "code",
   "execution_count": 20,
   "id": "eb688940",
   "metadata": {
    "colab": {
     "base_uri": "https://localhost:8080/"
    },
    "id": "eb688940",
    "outputId": "708da24e-b3da-4dde-c994-dbfa27ddefdb"
   },
   "outputs": [
    {
     "name": "stdout",
     "output_type": "stream",
     "text": [
      "Accuracy for K-NN Algorithm -- >  98.60105332455564  %\n",
      "\n",
      "Classification Report:\n",
      "              precision    recall  f1-score   support\n",
      "\n",
      "           0       0.95      0.99      0.97       286\n",
      "           1       0.97      0.98      0.98       303\n",
      "           2       0.96      0.98      0.97       261\n",
      "           3       0.96      1.00      0.98        66\n",
      "           4       1.00      1.00      1.00        19\n",
      "           5       0.96      0.96      0.96        82\n",
      "           6       1.00      0.99      0.99        86\n",
      "           7       0.97      1.00      0.99        70\n",
      "           8       0.99      0.91      0.95       100\n",
      "           9       0.98      1.00      0.99        58\n",
      "          10       0.98      1.00      0.99        92\n",
      "          11       1.00      0.99      0.99        81\n",
      "          12       0.99      1.00      1.00       109\n",
      "          13       0.96      0.92      0.94        77\n",
      "          14       0.99      0.99      0.99       157\n",
      "          16       1.00      1.00      1.00       579\n",
      "          17       0.99      0.99      0.99       595\n",
      "          18       1.00      0.99      1.00       287\n",
      "          19       1.00      0.97      0.99        73\n",
      "          20       1.00      0.99      0.99       450\n",
      "          21       1.00      0.89      0.94       164\n",
      "          22       0.98      0.99      0.98       386\n",
      "          24       1.00      0.99      0.99       425\n",
      "          25       1.00      1.00      1.00       301\n",
      "          26       0.99      0.96      0.98       191\n",
      "          27       0.99      1.00      0.99       280\n",
      "          28       0.99      0.97      0.98       120\n",
      "          29       1.00      1.00      1.00        85\n",
      "          30       0.98      0.99      0.98       163\n",
      "          31       1.00      1.00      1.00        59\n",
      "          32       0.96      0.97      0.97        71\n",
      "\n",
      "    accuracy                           0.99      6076\n",
      "   macro avg       0.98      0.98      0.98      6076\n",
      "weighted avg       0.99      0.99      0.99      6076\n",
      "\n"
     ]
    },
    {
     "data": {
      "image/png": "[encoded data removed]",
      "text/plain": [
       "<Figure size 800x600 with 1 Axes>"
      ]
     },
     "metadata": {},
     "output_type": "display_data"
    }
   ],
   "source": [
    "#Neighbours = 3\n",
    "knn = KNeighborsClassifier(n_neighbors=3)\n",
    "knn.fit(xtrain,ytrain)\n",
    "pred=knn.predict(xtest)\n",
    "acc=knn.score(xtest,ytest)\n",
    "print(\"Accuracy for K-NN Algorithm -- > \",acc*100,\" %\")\n",
    "\n",
    "print(\"\\nClassification Report:\")\n",
    "print(classification_report(ytest, pred))\n",
    "cm = confusion_matrix(ytest, pred)\n",
    "\n",
    "# Plot confusion matrix\n",
    "plt.figure(figsize=(8, 6))\n",
    "sns.heatmap(cm, annot=True, fmt=\"d\", cmap=\"Blues\", cbar=False)\n",
    "plt.title(\"Confusion Matrix\")\n",
    "plt.xlabel(\"Predicted Label\")\n",
    "plt.ylabel(\"True Label\")\n",
    "plt.show()"
   ]
  },
  {
   "cell_type": "code",
   "execution_count": 23,
   "id": "25209884",
   "metadata": {
    "colab": {
     "base_uri": "https://localhost:8080/",
     "height": 472
    },
    "id": "25209884",
    "outputId": "0d8a6227-140e-4de5-ac02-7f87566dd316"
   },
   "outputs": [
    {
     "data": {
      "image/png": "[encoded data removed]",
      "text/plain": [
       "<Figure size 640x480 with 1 Axes>"
      ]
     },
     "metadata": {},
     "output_type": "display_data"
    }
   ],
   "source": [
    "neighbors = list(range(1, 11))  # You can adjust this range as needed\n",
    "accuracies = []\n",
    "for k in neighbors:\n",
    "    # Initialize KNN classifier with k neighbors\n",
    "    knn = KNeighborsClassifier(n_neighbors=k)\n",
    "    # Train the model\n",
    "    knn.fit(xtrain, ytrain)\n",
    "    pred = knn.predict(xtest)\n",
    "    # Calculate accuracy and append to list\n",
    "    acc = accuracy_score(ytest, pred)\n",
    "    accuracies.append(acc)\n",
    "# Plot the graph\n",
    "plt.plot(neighbors, accuracies, marker='o')\n",
    "plt.title('Accuracy vs. Number of Neighbors')\n",
    "plt.xlabel('Number of Neighbors (k)')\n",
    "plt.ylabel('Accuracy')\n",
    "plt.xticks(neighbors)\n",
    "plt.grid(True)\n",
    "plt.show()"
   ]
  },
  {
   "cell_type": "markdown",
   "id": "2981efe8",
   "metadata": {
    "id": "2981efe8"
   },
   "source": [
    "# To calculate accuracy for SVM"
   ]
  },
  {
   "cell_type": "code",
   "execution_count": 24,
   "id": "b7f285a1",
   "metadata": {
    "colab": {
     "base_uri": "https://localhost:8080/"
    },
    "id": "b7f285a1",
    "outputId": "3e19f021-abbf-408e-b30c-b7ccd357b11d"
   },
   "outputs": [
    {
     "name": "stdout",
     "output_type": "stream",
     "text": [
      "Accuracy for SVM Algoritm -- >  96.8235681369322 %\n",
      "\n",
      "Classification Report:\n",
      "              precision    recall  f1-score   support\n",
      "\n",
      "           0       0.87      0.97      0.92       286\n",
      "           1       0.93      0.98      0.95       303\n",
      "           2       0.95      0.95      0.95       261\n",
      "           3       0.99      1.00      0.99        66\n",
      "           4       1.00      0.84      0.91        19\n",
      "           5       0.97      0.91      0.94        82\n",
      "           6       0.99      0.99      0.99        86\n",
      "           7       0.99      0.99      0.99        70\n",
      "           8       0.98      0.93      0.95       100\n",
      "           9       0.95      1.00      0.97        58\n",
      "          10       0.94      0.99      0.96        92\n",
      "          11       1.00      0.99      0.99        81\n",
      "          12       0.99      0.98      0.99       109\n",
      "          13       0.95      0.77      0.85        77\n",
      "          14       0.98      0.97      0.98       157\n",
      "          16       1.00      0.99      0.99       579\n",
      "          17       0.97      0.99      0.98       595\n",
      "          18       0.99      0.99      0.99       287\n",
      "          19       1.00      0.74      0.85        73\n",
      "          20       0.97      0.99      0.98       450\n",
      "          21       0.98      0.90      0.94       164\n",
      "          22       0.95      0.98      0.97       386\n",
      "          24       0.99      0.99      0.99       425\n",
      "          25       0.99      1.00      1.00       301\n",
      "          26       0.98      0.92      0.95       191\n",
      "          27       0.97      0.94      0.96       280\n",
      "          28       0.99      0.93      0.96       120\n",
      "          29       0.99      1.00      0.99        85\n",
      "          30       0.95      0.99      0.97       163\n",
      "          31       1.00      0.97      0.98        59\n",
      "          32       0.96      0.93      0.94        71\n",
      "\n",
      "    accuracy                           0.97      6076\n",
      "   macro avg       0.97      0.95      0.96      6076\n",
      "weighted avg       0.97      0.97      0.97      6076\n",
      "\n"
     ]
    }
   ],
   "source": [
    "clf = svm.SVC()\n",
    "clf.fit(xtrain,ytrain)\n",
    "spred=clf.predict(xtest)\n",
    "sacc=clf.score(xtest,ytest)\n",
    "print(\"Accuracy for SVM Algoritm -- > \",sacc*100, \"%\")\n",
    "\n",
    "print(\"\\nClassification Report:\")\n",
    "print(classification_report(ytest, spred))"
   ]
  },
  {
   "cell_type": "code",
   "execution_count": 25,
   "id": "9f92416d",
   "metadata": {
    "colab": {
     "base_uri": "https://localhost:8080/",
     "height": 472
    },
    "id": "9f92416d",
    "outputId": "a29333dc-6d52-4d93-a29a-b24dfe73d085"
   },
   "outputs": [
    {
     "data": {
      "image/png": "[encoded data removed]",
      "text/plain": [
       "<Figure size 640x480 with 1 Axes>"
      ]
     },
     "metadata": {},
     "output_type": "display_data"
    }
   ],
   "source": [
    "kernels = ['linear', 'poly', 'rbf', 'sigmoid']\n",
    "# Initialize lists to store accuracy scores\n",
    "accuracies = []\n",
    "# Loop through different kernel types\n",
    "for kernel in kernels:\n",
    "    # Initialize SVM classifier with the specified kernel\n",
    "    clf = svm.SVC(kernel=kernel)\n",
    "    clf.fit(xtrain, ytrain)\n",
    "    spred = clf.predict(xtest)\n",
    "    sacc = accuracy_score(ytest, spred)\n",
    "    accuracies.append(sacc)\n",
    "plt.bar(kernels, accuracies)\n",
    "plt.title('Accuracy vs. Kernel Type for SVM')\n",
    "plt.xlabel('Kernel Type')\n",
    "plt.ylabel('Accuracy')\n",
    "plt.ylim(0, 1)  # Set the y-axis limits to better visualize differences\n",
    "plt.grid(True)\n",
    "plt.show()"
   ]
  },
  {
   "cell_type": "markdown",
   "id": "77f9c2df",
   "metadata": {
    "id": "77f9c2df"
   },
   "source": [
    "# To Calculate accuracy for LSTM"
   ]
  },
  {
   "cell_type": "code",
   "execution_count": 26,
   "id": "a019dcc3",
   "metadata": {
    "id": "a019dcc3"
   },
   "outputs": [
    {
     "data": {
      "text/plain": [
       "array([[1., 0., 0., ..., 0., 0., 0.],\n",
       "       [1., 0., 0., ..., 0., 0., 0.],\n",
       "       [1., 0., 0., ..., 0., 0., 0.],\n",
       "       ...,\n",
       "       [0., 0., 0., ..., 0., 0., 1.],\n",
       "       [0., 0., 0., ..., 0., 0., 1.],\n",
       "       [0., 0., 0., ..., 0., 0., 1.]])"
      ]
     },
     "execution_count": 26,
     "metadata": {},
     "output_type": "execute_result"
    }
   ],
   "source": [
    "# Reshape input data for LSTM\n",
    "y=to_categorical(y)\n",
    "xtrain,xtest,ytrain,ytest=train_test_split(x,y,test_size=0.20,random_state=0)\n",
    "\n",
    "xtrain_lstm = xtrain_scaled.reshape((xtrain.shape[0], xtrain.shape[1], 1))\n",
    "xtest_lstm = xtest_scaled.reshape((xtest.shape[0], xtest.shape[1], 1))\n",
    "y #to_categorical converts numpy vector array to one hot encoded matrix"
   ]
  },
  {
   "cell_type": "code",
   "execution_count": 27,
   "id": "58c169ba",
   "metadata": {
    "colab": {
     "base_uri": "https://localhost:8080/"
    },
    "id": "58c169ba",
    "outputId": "34f6b417-58ef-4fb4-9e35-47dc78de4c11"
   },
   "outputs": [
    {
     "name": "stderr",
     "output_type": "stream",
     "text": [
      "c:\\Users\\sbhuv\\Desktop\\ece5831-2024-final-project\\venv\\Lib\\site-packages\\keras\\src\\layers\\rnn\\rnn.py:204: UserWarning: Do not pass an `input_shape`/`input_dim` argument to a layer. When using Sequential models, prefer using an `Input(shape)` object as the first layer in the model instead.\n",
      "  super().__init__(**kwargs)\n"
     ]
    }
   ],
   "source": [
    "model = Sequential()\n",
    "model.add(LSTM(64, return_sequences=True, activation='linear', input_shape=(42,1)))\n",
    "model.add(LSTM(128, return_sequences=True, activation='linear'))\n",
    "model.add(LSTM(64, return_sequences=False, activation='linear'))\n",
    "model.add(Dense(64, activation='linear'))\n",
    "model.add(Dense(32, activation='linear'))\n",
    "model.add(Dense(33, activation='softmax'))"
   ]
  },
  {
   "cell_type": "code",
   "execution_count": 28,
   "id": "e4970b76",
   "metadata": {
    "colab": {
     "base_uri": "https://localhost:8080/"
    },
    "id": "e4970b76",
    "outputId": "365bac2e-ce65-4ac6-994e-818bf852f598"
   },
   "outputs": [
    {
     "data": {
      "text/html": [
       "<pre style=\"white-space:pre;overflow-x:auto;line-height:normal;font-family:Menlo,'DejaVu Sans Mono',consolas,'Courier New',monospace\"><span style=\"font-weight: bold\">Model: \"sequential\"</span>\n",
       "</pre>\n"
      ],
      "text/plain": [
       "\u001b[1mModel: \"sequential\"\u001b[0m\n"
      ]
     },
     "metadata": {},
     "output_type": "display_data"
    },
    {
     "data": {
      "text/html": [
       "<pre style=\"white-space:pre;overflow-x:auto;line-height:normal;font-family:Menlo,'DejaVu Sans Mono',consolas,'Courier New',monospace\">┏━━━━━━━━━━━━━━━━━━━━━━━━━━━━━━━━━┳━━━━━━━━━━━━━━━━━━━━━━━━┳━━━━━━━━━━━━━━━┓\n",
       "┃<span style=\"font-weight: bold\"> Layer (type)                    </span>┃<span style=\"font-weight: bold\"> Output Shape           </span>┃<span style=\"font-weight: bold\">       Param # </span>┃\n",
       "┡━━━━━━━━━━━━━━━━━━━━━━━━━━━━━━━━━╇━━━━━━━━━━━━━━━━━━━━━━━━╇━━━━━━━━━━━━━━━┩\n",
       "│ lstm (<span style=\"color: #0087ff; text-decoration-color: #0087ff\">LSTM</span>)                     │ (<span style=\"color: #00d7ff; text-decoration-color: #00d7ff\">None</span>, <span style=\"color: #00af00; text-decoration-color: #00af00\">42</span>, <span style=\"color: #00af00; text-decoration-color: #00af00\">64</span>)         │        <span style=\"color: #00af00; text-decoration-color: #00af00\">16,896</span> │\n",
       "├─────────────────────────────────┼────────────────────────┼───────────────┤\n",
       "│ lstm_1 (<span style=\"color: #0087ff; text-decoration-color: #0087ff\">LSTM</span>)                   │ (<span style=\"color: #00d7ff; text-decoration-color: #00d7ff\">None</span>, <span style=\"color: #00af00; text-decoration-color: #00af00\">42</span>, <span style=\"color: #00af00; text-decoration-color: #00af00\">128</span>)        │        <span style=\"color: #00af00; text-decoration-color: #00af00\">98,816</span> │\n",
       "├─────────────────────────────────┼────────────────────────┼───────────────┤\n",
       "│ lstm_2 (<span style=\"color: #0087ff; text-decoration-color: #0087ff\">LSTM</span>)                   │ (<span style=\"color: #00d7ff; text-decoration-color: #00d7ff\">None</span>, <span style=\"color: #00af00; text-decoration-color: #00af00\">64</span>)             │        <span style=\"color: #00af00; text-decoration-color: #00af00\">49,408</span> │\n",
       "├─────────────────────────────────┼────────────────────────┼───────────────┤\n",
       "│ dense (<span style=\"color: #0087ff; text-decoration-color: #0087ff\">Dense</span>)                   │ (<span style=\"color: #00d7ff; text-decoration-color: #00d7ff\">None</span>, <span style=\"color: #00af00; text-decoration-color: #00af00\">64</span>)             │         <span style=\"color: #00af00; text-decoration-color: #00af00\">4,160</span> │\n",
       "├─────────────────────────────────┼────────────────────────┼───────────────┤\n",
       "│ dense_1 (<span style=\"color: #0087ff; text-decoration-color: #0087ff\">Dense</span>)                 │ (<span style=\"color: #00d7ff; text-decoration-color: #00d7ff\">None</span>, <span style=\"color: #00af00; text-decoration-color: #00af00\">32</span>)             │         <span style=\"color: #00af00; text-decoration-color: #00af00\">2,080</span> │\n",
       "├─────────────────────────────────┼────────────────────────┼───────────────┤\n",
       "│ dense_2 (<span style=\"color: #0087ff; text-decoration-color: #0087ff\">Dense</span>)                 │ (<span style=\"color: #00d7ff; text-decoration-color: #00d7ff\">None</span>, <span style=\"color: #00af00; text-decoration-color: #00af00\">33</span>)             │         <span style=\"color: #00af00; text-decoration-color: #00af00\">1,089</span> │\n",
       "└─────────────────────────────────┴────────────────────────┴───────────────┘\n",
       "</pre>\n"
      ],
      "text/plain": [
       "┏━━━━━━━━━━━━━━━━━━━━━━━━━━━━━━━━━┳━━━━━━━━━━━━━━━━━━━━━━━━┳━━━━━━━━━━━━━━━┓\n",
       "┃\u001b[1m \u001b[0m\u001b[1mLayer (type)                   \u001b[0m\u001b[1m \u001b[0m┃\u001b[1m \u001b[0m\u001b[1mOutput Shape          \u001b[0m\u001b[1m \u001b[0m┃\u001b[1m \u001b[0m\u001b[1m      Param #\u001b[0m\u001b[1m \u001b[0m┃\n",
       "┡━━━━━━━━━━━━━━━━━━━━━━━━━━━━━━━━━╇━━━━━━━━━━━━━━━━━━━━━━━━╇━━━━━━━━━━━━━━━┩\n",
       "│ lstm (\u001b[38;5;33mLSTM\u001b[0m)                     │ (\u001b[38;5;45mNone\u001b[0m, \u001b[38;5;34m42\u001b[0m, \u001b[38;5;34m64\u001b[0m)         │        \u001b[38;5;34m16,896\u001b[0m │\n",
       "├─────────────────────────────────┼────────────────────────┼───────────────┤\n",
       "│ lstm_1 (\u001b[38;5;33mLSTM\u001b[0m)                   │ (\u001b[38;5;45mNone\u001b[0m, \u001b[38;5;34m42\u001b[0m, \u001b[38;5;34m128\u001b[0m)        │        \u001b[38;5;34m98,816\u001b[0m │\n",
       "├─────────────────────────────────┼────────────────────────┼───────────────┤\n",
       "│ lstm_2 (\u001b[38;5;33mLSTM\u001b[0m)                   │ (\u001b[38;5;45mNone\u001b[0m, \u001b[38;5;34m64\u001b[0m)             │        \u001b[38;5;34m49,408\u001b[0m │\n",
       "├─────────────────────────────────┼────────────────────────┼───────────────┤\n",
       "│ dense (\u001b[38;5;33mDense\u001b[0m)                   │ (\u001b[38;5;45mNone\u001b[0m, \u001b[38;5;34m64\u001b[0m)             │         \u001b[38;5;34m4,160\u001b[0m │\n",
       "├─────────────────────────────────┼────────────────────────┼───────────────┤\n",
       "│ dense_1 (\u001b[38;5;33mDense\u001b[0m)                 │ (\u001b[38;5;45mNone\u001b[0m, \u001b[38;5;34m32\u001b[0m)             │         \u001b[38;5;34m2,080\u001b[0m │\n",
       "├─────────────────────────────────┼────────────────────────┼───────────────┤\n",
       "│ dense_2 (\u001b[38;5;33mDense\u001b[0m)                 │ (\u001b[38;5;45mNone\u001b[0m, \u001b[38;5;34m33\u001b[0m)             │         \u001b[38;5;34m1,089\u001b[0m │\n",
       "└─────────────────────────────────┴────────────────────────┴───────────────┘\n"
      ]
     },
     "metadata": {},
     "output_type": "display_data"
    },
    {
     "data": {
      "text/html": [
       "<pre style=\"white-space:pre;overflow-x:auto;line-height:normal;font-family:Menlo,'DejaVu Sans Mono',consolas,'Courier New',monospace\"><span style=\"font-weight: bold\"> Total params: </span><span style=\"color: #00af00; text-decoration-color: #00af00\">172,449</span> (673.63 KB)\n",
       "</pre>\n"
      ],
      "text/plain": [
       "\u001b[1m Total params: \u001b[0m\u001b[38;5;34m172,449\u001b[0m (673.63 KB)\n"
      ]
     },
     "metadata": {},
     "output_type": "display_data"
    },
    {
     "data": {
      "text/html": [
       "<pre style=\"white-space:pre;overflow-x:auto;line-height:normal;font-family:Menlo,'DejaVu Sans Mono',consolas,'Courier New',monospace\"><span style=\"font-weight: bold\"> Trainable params: </span><span style=\"color: #00af00; text-decoration-color: #00af00\">172,449</span> (673.63 KB)\n",
       "</pre>\n"
      ],
      "text/plain": [
       "\u001b[1m Trainable params: \u001b[0m\u001b[38;5;34m172,449\u001b[0m (673.63 KB)\n"
      ]
     },
     "metadata": {},
     "output_type": "display_data"
    },
    {
     "data": {
      "text/html": [
       "<pre style=\"white-space:pre;overflow-x:auto;line-height:normal;font-family:Menlo,'DejaVu Sans Mono',consolas,'Courier New',monospace\"><span style=\"font-weight: bold\"> Non-trainable params: </span><span style=\"color: #00af00; text-decoration-color: #00af00\">0</span> (0.00 B)\n",
       "</pre>\n"
      ],
      "text/plain": [
       "\u001b[1m Non-trainable params: \u001b[0m\u001b[38;5;34m0\u001b[0m (0.00 B)\n"
      ]
     },
     "metadata": {},
     "output_type": "display_data"
    }
   ],
   "source": [
    "# Compile the model\n",
    "model.compile(loss='categorical_crossentropy', optimizer='adam', metrics=['accuracy'])\n",
    "model.summary()"
   ]
  },
  {
   "cell_type": "code",
   "execution_count": 32,
   "id": "a216d2e2",
   "metadata": {
    "id": "a216d2e2"
   },
   "outputs": [],
   "source": [
    "checkpoint = ModelCheckpoint('LSTM_model.keras', monitor='val_accuracy', save_best_only=True, mode='max', verbose=1)"
   ]
  },
  {
   "cell_type": "code",
   "execution_count": 29,
   "id": "7bc45db6",
   "metadata": {},
   "outputs": [
    {
     "name": "stdout",
     "output_type": "stream",
     "text": [
      "(24303, 33)\n"
     ]
    },
    {
     "data": {
      "text/plain": [
       "array([[0.],\n",
       "       [0.],\n",
       "       [0.],\n",
       "       ...,\n",
       "       [0.],\n",
       "       [0.],\n",
       "       [0.]])"
      ]
     },
     "execution_count": 29,
     "metadata": {},
     "output_type": "execute_result"
    }
   ],
   "source": [
    "yt=ytrain.reshape(-1,1)\n",
    "print(ytrain.shape)\n",
    "yt"
   ]
  },
  {
   "cell_type": "code",
   "execution_count": 30,
   "id": "5977bd26",
   "metadata": {
    "colab": {
     "base_uri": "https://localhost:8080/"
    },
    "id": "5977bd26",
    "outputId": "a0a3a75a-7b6e-4b28-fa38-4c3a6133b6f3"
   },
   "outputs": [
    {
     "name": "stdout",
     "output_type": "stream",
     "text": [
      "Epoch 1/10\n",
      "\u001b[1m190/190\u001b[0m \u001b[32m━━━━━━━━━━━━━━━━━━━━\u001b[0m\u001b[37m\u001b[0m \u001b[1m50s\u001b[0m 204ms/step - accuracy: 0.1277 - loss: 3.0804 - val_accuracy: 0.3934 - val_loss: 2.0138\n",
      "Epoch 2/10\n",
      "\u001b[1m190/190\u001b[0m \u001b[32m━━━━━━━━━━━━━━━━━━━━\u001b[0m\u001b[37m\u001b[0m \u001b[1m37s\u001b[0m 191ms/step - accuracy: 0.4658 - loss: 1.7696 - val_accuracy: 0.6557 - val_loss: 1.1574\n",
      "Epoch 3/10\n",
      "\u001b[1m190/190\u001b[0m \u001b[32m━━━━━━━━━━━━━━━━━━━━\u001b[0m\u001b[37m\u001b[0m \u001b[1m35s\u001b[0m 186ms/step - accuracy: 0.6532 - loss: 1.1435 - val_accuracy: 0.7072 - val_loss: 0.9675\n",
      "Epoch 4/10\n",
      "\u001b[1m190/190\u001b[0m \u001b[32m━━━━━━━━━━━━━━━━━━━━\u001b[0m\u001b[37m\u001b[0m \u001b[1m37s\u001b[0m 194ms/step - accuracy: 0.7473 - loss: 0.8393 - val_accuracy: 0.8013 - val_loss: 0.6888\n",
      "Epoch 5/10\n",
      "\u001b[1m190/190\u001b[0m \u001b[32m━━━━━━━━━━━━━━━━━━━━\u001b[0m\u001b[37m\u001b[0m \u001b[1m37s\u001b[0m 194ms/step - accuracy: 0.7934 - loss: 0.6786 - val_accuracy: 0.8134 - val_loss: 0.6166\n",
      "Epoch 6/10\n",
      "\u001b[1m190/190\u001b[0m \u001b[32m━━━━━━━━━━━━━━━━━━━━\u001b[0m\u001b[37m\u001b[0m \u001b[1m37s\u001b[0m 193ms/step - accuracy: 0.8217 - loss: 0.5851 - val_accuracy: 0.8496 - val_loss: 0.5298\n",
      "Epoch 7/10\n",
      "\u001b[1m190/190\u001b[0m \u001b[32m━━━━━━━━━━━━━━━━━━━━\u001b[0m\u001b[37m\u001b[0m \u001b[1m36s\u001b[0m 190ms/step - accuracy: 0.8411 - loss: 0.5142 - val_accuracy: 0.8629 - val_loss: 0.4748\n",
      "Epoch 8/10\n",
      "\u001b[1m190/190\u001b[0m \u001b[32m━━━━━━━━━━━━━━━━━━━━\u001b[0m\u001b[37m\u001b[0m \u001b[1m37s\u001b[0m 196ms/step - accuracy: 0.8725 - loss: 0.4269 - val_accuracy: 0.8455 - val_loss: 0.4992\n",
      "Epoch 9/10\n",
      "\u001b[1m190/190\u001b[0m \u001b[32m━━━━━━━━━━━━━━━━━━━━\u001b[0m\u001b[37m\u001b[0m \u001b[1m37s\u001b[0m 193ms/step - accuracy: 0.8820 - loss: 0.3938 - val_accuracy: 0.8619 - val_loss: 0.4474\n",
      "Epoch 10/10\n",
      "\u001b[1m190/190\u001b[0m \u001b[32m━━━━━━━━━━━━━━━━━━━━\u001b[0m\u001b[37m\u001b[0m \u001b[1m38s\u001b[0m 198ms/step - accuracy: 0.8989 - loss: 0.3427 - val_accuracy: 0.9026 - val_loss: 0.3525\n"
     ]
    }
   ],
   "source": [
    "# Train the model for lstm\n",
    "history = model.fit(xtrain, ytrain, epochs=10, batch_size=128, validation_data=[xtest,ytest], verbose=1)"
   ]
  },
  {
   "cell_type": "code",
   "execution_count": 31,
   "id": "e69f8f93",
   "metadata": {
    "id": "e69f8f93"
   },
   "outputs": [],
   "source": [
    "model.save(\"LSTM_model.keras\")"
   ]
  },
  {
   "cell_type": "code",
   "execution_count": 33,
   "id": "8b3bb397",
   "metadata": {},
   "outputs": [],
   "source": [
    "model = load_model(\"LSTM_model.keras\")"
   ]
  },
  {
   "cell_type": "code",
   "execution_count": 34,
   "id": "40645194",
   "metadata": {
    "colab": {
     "base_uri": "https://localhost:8080/"
    },
    "id": "40645194",
    "outputId": "e6cba7d7-9ecc-4b84-d695-06b6a05a8a4d"
   },
   "outputs": [
    {
     "name": "stdout",
     "output_type": "stream",
     "text": [
      "\u001b[1m190/190\u001b[0m \u001b[32m━━━━━━━━━━━━━━━━━━━━\u001b[0m\u001b[37m\u001b[0m \u001b[1m4s\u001b[0m 15ms/step - accuracy: 0.9004 - loss: 0.3557\n",
      "Test Loss: 0.3525, Test Accuracy LSTM: 0.9026\n"
     ]
    }
   ],
   "source": [
    "# Evaluate on test data lstm\n",
    "test_loss, test_accuracy = model.evaluate(xtest, ytest)\n",
    "print(f\"Test Loss: {test_loss:.4f}, Test Accuracy LSTM: {test_accuracy:.4f}\")"
   ]
  },
  {
   "cell_type": "code",
   "execution_count": 35,
   "id": "0f24b48e",
   "metadata": {
    "colab": {
     "base_uri": "https://localhost:8080/",
     "height": 927
    },
    "id": "0f24b48e",
    "outputId": "c90cd9a9-357d-46d0-d7d6-8e7e0f5b3e2b"
   },
   "outputs": [
    {
     "data": {
      "image/png": "[encoded data removed]",
      "text/plain": [
       "<Figure size 640x480 with 1 Axes>"
      ]
     },
     "metadata": {},
     "output_type": "display_data"
    },
    {
     "data": {
      "image/png": "[encoded data removed]",
      "text/plain": [
       "<Figure size 640x480 with 1 Axes>"
      ]
     },
     "metadata": {},
     "output_type": "display_data"
    }
   ],
   "source": [
    "# Plot training & validation loss\n",
    "plt.plot(history.history['loss'])\n",
    "plt.plot(history.history['val_loss'])\n",
    "plt.title('Model loss')\n",
    "plt.ylabel('Loss')\n",
    "plt.xlabel('Epoch')\n",
    "plt.legend(['Train', 'Validation'], loc='upper left')\n",
    "plt.show()\n",
    "\n",
    "# Plot training & validation accuracy\n",
    "plt.plot(history.history['accuracy'])\n",
    "plt.plot(history.history['val_accuracy'])\n",
    "plt.title('Model accuracy')\n",
    "plt.ylabel('Accuracy')\n",
    "plt.xlabel('Epoch')\n",
    "plt.legend(['Train', 'Validation'], loc='upper left')\n",
    "plt.show()"
   ]
  },
  {
   "cell_type": "markdown",
   "id": "5eabe819",
   "metadata": {
    "id": "5eabe819"
   },
   "source": [
    "# To Calculate accuracy for GRU"
   ]
  },
  {
   "cell_type": "code",
   "execution_count": 36,
   "id": "7c451941",
   "metadata": {
    "colab": {
     "base_uri": "https://localhost:8080/"
    },
    "id": "7c451941",
    "outputId": "743de5f0-7822-4fa7-c317-d5a3513b52f9"
   },
   "outputs": [
    {
     "name": "stderr",
     "output_type": "stream",
     "text": [
      "c:\\Users\\sbhuv\\Desktop\\ece5831-2024-final-project\\venv\\Lib\\site-packages\\keras\\src\\layers\\rnn\\rnn.py:204: UserWarning: Do not pass an `input_shape`/`input_dim` argument to a layer. When using Sequential models, prefer using an `Input(shape)` object as the first layer in the model instead.\n",
      "  super().__init__(**kwargs)\n"
     ]
    },
    {
     "data": {
      "text/html": [
       "<pre style=\"white-space:pre;overflow-x:auto;line-height:normal;font-family:Menlo,'DejaVu Sans Mono',consolas,'Courier New',monospace\"><span style=\"font-weight: bold\">Model: \"sequential_1\"</span>\n",
       "</pre>\n"
      ],
      "text/plain": [
       "\u001b[1mModel: \"sequential_1\"\u001b[0m\n"
      ]
     },
     "metadata": {},
     "output_type": "display_data"
    },
    {
     "data": {
      "text/html": [
       "<pre style=\"white-space:pre;overflow-x:auto;line-height:normal;font-family:Menlo,'DejaVu Sans Mono',consolas,'Courier New',monospace\">┏━━━━━━━━━━━━━━━━━━━━━━━━━━━━━━━━━┳━━━━━━━━━━━━━━━━━━━━━━━━┳━━━━━━━━━━━━━━━┓\n",
       "┃<span style=\"font-weight: bold\"> Layer (type)                    </span>┃<span style=\"font-weight: bold\"> Output Shape           </span>┃<span style=\"font-weight: bold\">       Param # </span>┃\n",
       "┡━━━━━━━━━━━━━━━━━━━━━━━━━━━━━━━━━╇━━━━━━━━━━━━━━━━━━━━━━━━╇━━━━━━━━━━━━━━━┩\n",
       "│ gru (<span style=\"color: #0087ff; text-decoration-color: #0087ff\">GRU</span>)                       │ (<span style=\"color: #00d7ff; text-decoration-color: #00d7ff\">None</span>, <span style=\"color: #00af00; text-decoration-color: #00af00\">42</span>, <span style=\"color: #00af00; text-decoration-color: #00af00\">64</span>)         │        <span style=\"color: #00af00; text-decoration-color: #00af00\">12,864</span> │\n",
       "├─────────────────────────────────┼────────────────────────┼───────────────┤\n",
       "│ gru_1 (<span style=\"color: #0087ff; text-decoration-color: #0087ff\">GRU</span>)                     │ (<span style=\"color: #00d7ff; text-decoration-color: #00d7ff\">None</span>, <span style=\"color: #00af00; text-decoration-color: #00af00\">42</span>, <span style=\"color: #00af00; text-decoration-color: #00af00\">128</span>)        │        <span style=\"color: #00af00; text-decoration-color: #00af00\">74,496</span> │\n",
       "├─────────────────────────────────┼────────────────────────┼───────────────┤\n",
       "│ gru_2 (<span style=\"color: #0087ff; text-decoration-color: #0087ff\">GRU</span>)                     │ (<span style=\"color: #00d7ff; text-decoration-color: #00d7ff\">None</span>, <span style=\"color: #00af00; text-decoration-color: #00af00\">64</span>)             │        <span style=\"color: #00af00; text-decoration-color: #00af00\">37,248</span> │\n",
       "├─────────────────────────────────┼────────────────────────┼───────────────┤\n",
       "│ dense_3 (<span style=\"color: #0087ff; text-decoration-color: #0087ff\">Dense</span>)                 │ (<span style=\"color: #00d7ff; text-decoration-color: #00d7ff\">None</span>, <span style=\"color: #00af00; text-decoration-color: #00af00\">64</span>)             │         <span style=\"color: #00af00; text-decoration-color: #00af00\">4,160</span> │\n",
       "├─────────────────────────────────┼────────────────────────┼───────────────┤\n",
       "│ dense_4 (<span style=\"color: #0087ff; text-decoration-color: #0087ff\">Dense</span>)                 │ (<span style=\"color: #00d7ff; text-decoration-color: #00d7ff\">None</span>, <span style=\"color: #00af00; text-decoration-color: #00af00\">32</span>)             │         <span style=\"color: #00af00; text-decoration-color: #00af00\">2,080</span> │\n",
       "├─────────────────────────────────┼────────────────────────┼───────────────┤\n",
       "│ dense_5 (<span style=\"color: #0087ff; text-decoration-color: #0087ff\">Dense</span>)                 │ (<span style=\"color: #00d7ff; text-decoration-color: #00d7ff\">None</span>, <span style=\"color: #00af00; text-decoration-color: #00af00\">33</span>)             │         <span style=\"color: #00af00; text-decoration-color: #00af00\">1,089</span> │\n",
       "└─────────────────────────────────┴────────────────────────┴───────────────┘\n",
       "</pre>\n"
      ],
      "text/plain": [
       "┏━━━━━━━━━━━━━━━━━━━━━━━━━━━━━━━━━┳━━━━━━━━━━━━━━━━━━━━━━━━┳━━━━━━━━━━━━━━━┓\n",
       "┃\u001b[1m \u001b[0m\u001b[1mLayer (type)                   \u001b[0m\u001b[1m \u001b[0m┃\u001b[1m \u001b[0m\u001b[1mOutput Shape          \u001b[0m\u001b[1m \u001b[0m┃\u001b[1m \u001b[0m\u001b[1m      Param #\u001b[0m\u001b[1m \u001b[0m┃\n",
       "┡━━━━━━━━━━━━━━━━━━━━━━━━━━━━━━━━━╇━━━━━━━━━━━━━━━━━━━━━━━━╇━━━━━━━━━━━━━━━┩\n",
       "│ gru (\u001b[38;5;33mGRU\u001b[0m)                       │ (\u001b[38;5;45mNone\u001b[0m, \u001b[38;5;34m42\u001b[0m, \u001b[38;5;34m64\u001b[0m)         │        \u001b[38;5;34m12,864\u001b[0m │\n",
       "├─────────────────────────────────┼────────────────────────┼───────────────┤\n",
       "│ gru_1 (\u001b[38;5;33mGRU\u001b[0m)                     │ (\u001b[38;5;45mNone\u001b[0m, \u001b[38;5;34m42\u001b[0m, \u001b[38;5;34m128\u001b[0m)        │        \u001b[38;5;34m74,496\u001b[0m │\n",
       "├─────────────────────────────────┼────────────────────────┼───────────────┤\n",
       "│ gru_2 (\u001b[38;5;33mGRU\u001b[0m)                     │ (\u001b[38;5;45mNone\u001b[0m, \u001b[38;5;34m64\u001b[0m)             │        \u001b[38;5;34m37,248\u001b[0m │\n",
       "├─────────────────────────────────┼────────────────────────┼───────────────┤\n",
       "│ dense_3 (\u001b[38;5;33mDense\u001b[0m)                 │ (\u001b[38;5;45mNone\u001b[0m, \u001b[38;5;34m64\u001b[0m)             │         \u001b[38;5;34m4,160\u001b[0m │\n",
       "├─────────────────────────────────┼────────────────────────┼───────────────┤\n",
       "│ dense_4 (\u001b[38;5;33mDense\u001b[0m)                 │ (\u001b[38;5;45mNone\u001b[0m, \u001b[38;5;34m32\u001b[0m)             │         \u001b[38;5;34m2,080\u001b[0m │\n",
       "├─────────────────────────────────┼────────────────────────┼───────────────┤\n",
       "│ dense_5 (\u001b[38;5;33mDense\u001b[0m)                 │ (\u001b[38;5;45mNone\u001b[0m, \u001b[38;5;34m33\u001b[0m)             │         \u001b[38;5;34m1,089\u001b[0m │\n",
       "└─────────────────────────────────┴────────────────────────┴───────────────┘\n"
      ]
     },
     "metadata": {},
     "output_type": "display_data"
    },
    {
     "data": {
      "text/html": [
       "<pre style=\"white-space:pre;overflow-x:auto;line-height:normal;font-family:Menlo,'DejaVu Sans Mono',consolas,'Courier New',monospace\"><span style=\"font-weight: bold\"> Total params: </span><span style=\"color: #00af00; text-decoration-color: #00af00\">131,937</span> (515.38 KB)\n",
       "</pre>\n"
      ],
      "text/plain": [
       "\u001b[1m Total params: \u001b[0m\u001b[38;5;34m131,937\u001b[0m (515.38 KB)\n"
      ]
     },
     "metadata": {},
     "output_type": "display_data"
    },
    {
     "data": {
      "text/html": [
       "<pre style=\"white-space:pre;overflow-x:auto;line-height:normal;font-family:Menlo,'DejaVu Sans Mono',consolas,'Courier New',monospace\"><span style=\"font-weight: bold\"> Trainable params: </span><span style=\"color: #00af00; text-decoration-color: #00af00\">131,937</span> (515.38 KB)\n",
       "</pre>\n"
      ],
      "text/plain": [
       "\u001b[1m Trainable params: \u001b[0m\u001b[38;5;34m131,937\u001b[0m (515.38 KB)\n"
      ]
     },
     "metadata": {},
     "output_type": "display_data"
    },
    {
     "data": {
      "text/html": [
       "<pre style=\"white-space:pre;overflow-x:auto;line-height:normal;font-family:Menlo,'DejaVu Sans Mono',consolas,'Courier New',monospace\"><span style=\"font-weight: bold\"> Non-trainable params: </span><span style=\"color: #00af00; text-decoration-color: #00af00\">0</span> (0.00 B)\n",
       "</pre>\n"
      ],
      "text/plain": [
       "\u001b[1m Non-trainable params: \u001b[0m\u001b[38;5;34m0\u001b[0m (0.00 B)\n"
      ]
     },
     "metadata": {},
     "output_type": "display_data"
    }
   ],
   "source": [
    "xtrain_gru = xtrain_scaled.reshape((xtrain.shape[0], xtrain.shape[1], 1))\n",
    "xtest_gru = xtest_scaled.reshape((xtest.shape[0], xtest.shape[1], 1))\n",
    "\n",
    "model = Sequential()\n",
    "model.add(GRU(64, return_sequences=True, activation='linear', input_shape=(42,1)))\n",
    "model.add(GRU(128, return_sequences=True, activation='linear'))\n",
    "model.add(GRU(64, return_sequences=False, activation='linear'))\n",
    "model.add(Dense(64, activation='linear'))\n",
    "model.add(Dense(32, activation='linear'))\n",
    "model.add(Dense(33, activation='softmax'))\n",
    "\n",
    "# Compile the model\n",
    "model.compile(loss='categorical_crossentropy', optimizer='adam', metrics=['accuracy'])\n",
    "model.summary()"
   ]
  },
  {
   "cell_type": "code",
   "execution_count": 39,
   "id": "12cf1622",
   "metadata": {},
   "outputs": [],
   "source": [
    "checkpoint = ModelCheckpoint('GRU_model.keras', monitor='val_accuracy', save_best_only=True, mode='max', verbose=1)"
   ]
  },
  {
   "cell_type": "code",
   "execution_count": 37,
   "id": "53719e34",
   "metadata": {
    "colab": {
     "base_uri": "https://localhost:8080/"
    },
    "id": "53719e34",
    "outputId": "9792d667-6b8c-4f1e-c0d8-f43b6b92fb41"
   },
   "outputs": [
    {
     "name": "stdout",
     "output_type": "stream",
     "text": [
      "Epoch 1/10\n",
      "\u001b[1m190/190\u001b[0m \u001b[32m━━━━━━━━━━━━━━━━━━━━\u001b[0m\u001b[37m\u001b[0m \u001b[1m27s\u001b[0m 114ms/step - accuracy: 0.1625 - loss: 3.0172 - val_accuracy: 0.4742 - val_loss: 1.6117\n",
      "Epoch 2/10\n",
      "\u001b[1m190/190\u001b[0m \u001b[32m━━━━━━━━━━━━━━━━━━━━\u001b[0m\u001b[37m\u001b[0m \u001b[1m23s\u001b[0m 120ms/step - accuracy: 0.6320 - loss: 1.2106 - val_accuracy: 0.8427 - val_loss: 0.5958\n",
      "Epoch 3/10\n",
      "\u001b[1m190/190\u001b[0m \u001b[32m━━━━━━━━━━━━━━━━━━━━\u001b[0m\u001b[37m\u001b[0m \u001b[1m24s\u001b[0m 125ms/step - accuracy: 0.8672 - loss: 0.4763 - val_accuracy: 0.8915 - val_loss: 0.3841\n",
      "Epoch 4/10\n",
      "\u001b[1m190/190\u001b[0m \u001b[32m━━━━━━━━━━━━━━━━━━━━\u001b[0m\u001b[37m\u001b[0m \u001b[1m24s\u001b[0m 125ms/step - accuracy: 0.9065 - loss: 0.3289 - val_accuracy: 0.9203 - val_loss: 0.2946\n",
      "Epoch 5/10\n",
      "\u001b[1m190/190\u001b[0m \u001b[32m━━━━━━━━━━━━━━━━━━━━\u001b[0m\u001b[37m\u001b[0m \u001b[1m25s\u001b[0m 130ms/step - accuracy: 0.9340 - loss: 0.2465 - val_accuracy: 0.9307 - val_loss: 0.2558\n",
      "Epoch 6/10\n",
      "\u001b[1m190/190\u001b[0m \u001b[32m━━━━━━━━━━━━━━━━━━━━\u001b[0m\u001b[37m\u001b[0m \u001b[1m26s\u001b[0m 134ms/step - accuracy: 0.9408 - loss: 0.2112 - val_accuracy: 0.9435 - val_loss: 0.2258\n",
      "Epoch 7/10\n",
      "\u001b[1m190/190\u001b[0m \u001b[32m━━━━━━━━━━━━━━━━━━━━\u001b[0m\u001b[37m\u001b[0m \u001b[1m26s\u001b[0m 138ms/step - accuracy: 0.9525 - loss: 0.1685 - val_accuracy: 0.9490 - val_loss: 0.1974\n",
      "Epoch 8/10\n",
      "\u001b[1m190/190\u001b[0m \u001b[32m━━━━━━━━━━━━━━━━━━━━\u001b[0m\u001b[37m\u001b[0m \u001b[1m27s\u001b[0m 140ms/step - accuracy: 0.9600 - loss: 0.1546 - val_accuracy: 0.9340 - val_loss: 0.2388\n",
      "Epoch 9/10\n",
      "\u001b[1m190/190\u001b[0m \u001b[32m━━━━━━━━━━━━━━━━━━━━\u001b[0m\u001b[37m\u001b[0m \u001b[1m27s\u001b[0m 144ms/step - accuracy: 0.9623 - loss: 0.1355 - val_accuracy: 0.9602 - val_loss: 0.1761\n",
      "Epoch 10/10\n",
      "\u001b[1m190/190\u001b[0m \u001b[32m━━━━━━━━━━━━━━━━━━━━\u001b[0m\u001b[37m\u001b[0m \u001b[1m28s\u001b[0m 146ms/step - accuracy: 0.9657 - loss: 0.1266 - val_accuracy: 0.9664 - val_loss: 0.1581\n"
     ]
    }
   ],
   "source": [
    "# Train the model for gru\n",
    "history = model.fit(xtrain, ytrain, epochs=10, batch_size=128, validation_data=[xtest,ytest], verbose=1)"
   ]
  },
  {
   "cell_type": "code",
   "execution_count": 38,
   "id": "fd731364",
   "metadata": {},
   "outputs": [],
   "source": [
    "model.save(\"GRU_model.keras\")"
   ]
  },
  {
   "cell_type": "code",
   "execution_count": 40,
   "id": "e43e22fe",
   "metadata": {},
   "outputs": [],
   "source": [
    "model = load_model(\"GRU_model.keras\")"
   ]
  },
  {
   "cell_type": "code",
   "execution_count": 41,
   "id": "0fd51b66",
   "metadata": {
    "colab": {
     "base_uri": "https://localhost:8080/"
    },
    "id": "0fd51b66",
    "outputId": "3de41bf6-c48d-4cc5-ff29-3899dc372852",
    "scrolled": true
   },
   "outputs": [
    {
     "name": "stdout",
     "output_type": "stream",
     "text": [
      "\u001b[1m190/190\u001b[0m \u001b[32m━━━━━━━━━━━━━━━━━━━━\u001b[0m\u001b[37m\u001b[0m \u001b[1m3s\u001b[0m 13ms/step - accuracy: 0.9666 - loss: 0.1559\n",
      "Test Loss: 0.1581, Test Accuracy GRU: 0.9664\n"
     ]
    }
   ],
   "source": [
    "# Evaluate on test data gru\n",
    "test_loss, test_accuracy = model.evaluate(xtest, ytest)\n",
    "print(f\"Test Loss: {test_loss:.4f}, Test Accuracy GRU: {test_accuracy:.4f}\")"
   ]
  },
  {
   "cell_type": "code",
   "execution_count": 42,
   "id": "61e4231e",
   "metadata": {},
   "outputs": [
    {
     "data": {
      "image/png": "[encoded data removed]",
      "text/plain": [
       "<Figure size 640x480 with 1 Axes>"
      ]
     },
     "metadata": {},
     "output_type": "display_data"
    },
    {
     "data": {
      "image/png": "[encoded data removed]",
      "text/plain": [
       "<Figure size 640x480 with 1 Axes>"
      ]
     },
     "metadata": {},
     "output_type": "display_data"
    }
   ],
   "source": [
    "plt.plot(history.history['loss'], label='train')\n",
    "plt.plot(history.history['val_loss'], label='validation')\n",
    "plt.title('Model Loss')\n",
    "plt.xlabel('Epochs')\n",
    "plt.ylabel('Loss')\n",
    "plt.legend()\n",
    "plt.show()\n",
    "\n",
    "plt.plot(history.history['accuracy'], label='train')\n",
    "plt.plot(history.history['val_accuracy'], label='validation')\n",
    "plt.title('Model Accuracy')\n",
    "plt.xlabel('Epochs')\n",
    "plt.ylabel('Accuracy')\n",
    "plt.legend()\n",
    "plt.show()"
   ]
  },
  {
   "cell_type": "markdown",
   "id": "b6566c6e",
   "metadata": {
    "id": "b6566c6e"
   },
   "source": [
    "# For Realtime Prediction"
   ]
  },
  {
   "cell_type": "code",
   "execution_count": 44,
   "id": "94904359",
   "metadata": {
    "colab": {
     "base_uri": "https://localhost:8080/",
     "height": 245
    },
    "id": "94904359",
    "outputId": "598efd43-718b-4376-99e2-d3b290c83c21"
   },
   "outputs": [
    {
     "name": "stdout",
     "output_type": "stream",
     "text": [
      "K-NN \t SVM \t LSTM \t GRU\n",
      "\u001b[1m1/1\u001b[0m \u001b[32m━━━━━━━━━━━━━━━━━━━━\u001b[0m\u001b[37m\u001b[0m \u001b[1m0s\u001b[0m 142ms/step\n",
      "\u001b[1m1/1\u001b[0m \u001b[32m━━━━━━━━━━━━━━━━━━━━\u001b[0m\u001b[37m\u001b[0m \u001b[1m0s\u001b[0m 91ms/step\n",
      " \n",
      "Peace \t food \t Peace \t Peace\n",
      "\n",
      "Ensemble Prediction: Peace\n",
      " \n"
     ]
    },
    {
     "name": "stderr",
     "output_type": "stream",
     "text": [
      "C:\\Users\\sbhuv\\AppData\\Local\\Temp\\ipykernel_20484\\3863721001.py:83: DeprecationWarning: Conversion of an array with ndim > 0 to a scalar is deprecated, and will error in future. Ensure you extract a single element from your array before performing this operation. (Deprecated NumPy 1.25.)\n",
      "  op=label[int(pred)]  #knn\n",
      "C:\\Users\\sbhuv\\AppData\\Local\\Temp\\ipykernel_20484\\3863721001.py:84: DeprecationWarning: Conversion of an array with ndim > 0 to a scalar is deprecated, and will error in future. Ensure you extract a single element from your array before performing this operation. (Deprecated NumPy 1.25.)\n",
      "  sop=label[int(spred)] #svm\n",
      "C:\\Users\\sbhuv\\AppData\\Local\\Temp\\ipykernel_20484\\3863721001.py:85: DeprecationWarning: Conversion of an array with ndim > 0 to a scalar is deprecated, and will error in future. Ensure you extract a single element from your array before performing this operation. (Deprecated NumPy 1.25.)\n",
      "  lop = label[int(pred_lstm)]  # LSTM\n",
      "C:\\Users\\sbhuv\\AppData\\Local\\Temp\\ipykernel_20484\\3863721001.py:86: DeprecationWarning: Conversion of an array with ndim > 0 to a scalar is deprecated, and will error in future. Ensure you extract a single element from your array before performing this operation. (Deprecated NumPy 1.25.)\n",
      "  gop = label[int(pred_gru)]  # GRU\n"
     ]
    },
    {
     "name": "stdout",
     "output_type": "stream",
     "text": [
      "\u001b[1m1/1\u001b[0m \u001b[32m━━━━━━━━━━━━━━━━━━━━\u001b[0m\u001b[37m\u001b[0m \u001b[1m0s\u001b[0m 107ms/step\n",
      "\u001b[1m1/1\u001b[0m \u001b[32m━━━━━━━━━━━━━━━━━━━━\u001b[0m\u001b[37m\u001b[0m \u001b[1m0s\u001b[0m 105ms/step\n",
      " \n",
      "open \t House \t Stop \t Stop\n",
      "\n",
      "Ensemble Prediction: Stop\n",
      " \n"
     ]
    },
    {
     "name": "stderr",
     "output_type": "stream",
     "text": [
      "C:\\Users\\sbhuv\\AppData\\Local\\Temp\\ipykernel_20484\\3863721001.py:83: DeprecationWarning: Conversion of an array with ndim > 0 to a scalar is deprecated, and will error in future. Ensure you extract a single element from your array before performing this operation. (Deprecated NumPy 1.25.)\n",
      "  op=label[int(pred)]  #knn\n",
      "C:\\Users\\sbhuv\\AppData\\Local\\Temp\\ipykernel_20484\\3863721001.py:84: DeprecationWarning: Conversion of an array with ndim > 0 to a scalar is deprecated, and will error in future. Ensure you extract a single element from your array before performing this operation. (Deprecated NumPy 1.25.)\n",
      "  sop=label[int(spred)] #svm\n",
      "C:\\Users\\sbhuv\\AppData\\Local\\Temp\\ipykernel_20484\\3863721001.py:85: DeprecationWarning: Conversion of an array with ndim > 0 to a scalar is deprecated, and will error in future. Ensure you extract a single element from your array before performing this operation. (Deprecated NumPy 1.25.)\n",
      "  lop = label[int(pred_lstm)]  # LSTM\n",
      "C:\\Users\\sbhuv\\AppData\\Local\\Temp\\ipykernel_20484\\3863721001.py:86: DeprecationWarning: Conversion of an array with ndim > 0 to a scalar is deprecated, and will error in future. Ensure you extract a single element from your array before performing this operation. (Deprecated NumPy 1.25.)\n",
      "  gop = label[int(pred_gru)]  # GRU\n"
     ]
    },
    {
     "name": "stdout",
     "output_type": "stream",
     "text": [
      "\u001b[1m1/1\u001b[0m \u001b[32m━━━━━━━━━━━━━━━━━━━━\u001b[0m\u001b[37m\u001b[0m \u001b[1m0s\u001b[0m 100ms/step\n",
      "\u001b[1m1/1\u001b[0m \u001b[32m━━━━━━━━━━━━━━━━━━━━\u001b[0m\u001b[37m\u001b[0m \u001b[1m0s\u001b[0m 106ms/step\n",
      " \n",
      "iloveyou \t food \t iloveyou \t iloveyou\n",
      "\n",
      "Ensemble Prediction: iloveyou\n",
      " \n"
     ]
    },
    {
     "name": "stderr",
     "output_type": "stream",
     "text": [
      "C:\\Users\\sbhuv\\AppData\\Local\\Temp\\ipykernel_20484\\3863721001.py:83: DeprecationWarning: Conversion of an array with ndim > 0 to a scalar is deprecated, and will error in future. Ensure you extract a single element from your array before performing this operation. (Deprecated NumPy 1.25.)\n",
      "  op=label[int(pred)]  #knn\n",
      "C:\\Users\\sbhuv\\AppData\\Local\\Temp\\ipykernel_20484\\3863721001.py:84: DeprecationWarning: Conversion of an array with ndim > 0 to a scalar is deprecated, and will error in future. Ensure you extract a single element from your array before performing this operation. (Deprecated NumPy 1.25.)\n",
      "  sop=label[int(spred)] #svm\n",
      "C:\\Users\\sbhuv\\AppData\\Local\\Temp\\ipykernel_20484\\3863721001.py:85: DeprecationWarning: Conversion of an array with ndim > 0 to a scalar is deprecated, and will error in future. Ensure you extract a single element from your array before performing this operation. (Deprecated NumPy 1.25.)\n",
      "  lop = label[int(pred_lstm)]  # LSTM\n",
      "C:\\Users\\sbhuv\\AppData\\Local\\Temp\\ipykernel_20484\\3863721001.py:86: DeprecationWarning: Conversion of an array with ndim > 0 to a scalar is deprecated, and will error in future. Ensure you extract a single element from your array before performing this operation. (Deprecated NumPy 1.25.)\n",
      "  gop = label[int(pred_gru)]  # GRU\n"
     ]
    },
    {
     "name": "stdout",
     "output_type": "stream",
     "text": [
      "\u001b[1m1/1\u001b[0m \u001b[32m━━━━━━━━━━━━━━━━━━━━\u001b[0m\u001b[37m\u001b[0m \u001b[1m0s\u001b[0m 45ms/step\n",
      "\u001b[1m1/1\u001b[0m \u001b[32m━━━━━━━━━━━━━━━━━━━━\u001b[0m\u001b[37m\u001b[0m \u001b[1m0s\u001b[0m 42ms/step\n",
      " \n",
      "House \t Internet \t Internet \t Internet\n",
      "\n",
      "Ensemble Prediction: Internet\n",
      " \n"
     ]
    },
    {
     "name": "stderr",
     "output_type": "stream",
     "text": [
      "C:\\Users\\sbhuv\\AppData\\Local\\Temp\\ipykernel_20484\\3863721001.py:83: DeprecationWarning: Conversion of an array with ndim > 0 to a scalar is deprecated, and will error in future. Ensure you extract a single element from your array before performing this operation. (Deprecated NumPy 1.25.)\n",
      "  op=label[int(pred)]  #knn\n",
      "C:\\Users\\sbhuv\\AppData\\Local\\Temp\\ipykernel_20484\\3863721001.py:84: DeprecationWarning: Conversion of an array with ndim > 0 to a scalar is deprecated, and will error in future. Ensure you extract a single element from your array before performing this operation. (Deprecated NumPy 1.25.)\n",
      "  sop=label[int(spred)] #svm\n",
      "C:\\Users\\sbhuv\\AppData\\Local\\Temp\\ipykernel_20484\\3863721001.py:85: DeprecationWarning: Conversion of an array with ndim > 0 to a scalar is deprecated, and will error in future. Ensure you extract a single element from your array before performing this operation. (Deprecated NumPy 1.25.)\n",
      "  lop = label[int(pred_lstm)]  # LSTM\n",
      "C:\\Users\\sbhuv\\AppData\\Local\\Temp\\ipykernel_20484\\3863721001.py:86: DeprecationWarning: Conversion of an array with ndim > 0 to a scalar is deprecated, and will error in future. Ensure you extract a single element from your array before performing this operation. (Deprecated NumPy 1.25.)\n",
      "  gop = label[int(pred_gru)]  # GRU\n"
     ]
    },
    {
     "name": "stdout",
     "output_type": "stream",
     "text": [
      " \n",
      "Average Recognition Time (k-NN): 16.346350021194667 ms\n",
      "Average Recognition Time (SVM): 26.455650018760934 ms\n",
      "Average Recognition Time (LSTM): 25.515465000353288 ms\n",
      "Average Recognition Time (GRU): 48.41944750078255 ms\n"
     ]
    }
   ],
   "source": [
    "mp_hands = mp.solutions.hands\n",
    "mp_drawing = mp.solutions.drawing_utils\n",
    "hands = mp_hands.Hands(min_detection_confidence=0.8, min_tracking_confidence=0.5)\n",
    "cap = cv2.VideoCapture(0)  # Use the appropriate index or video file path\n",
    "\n",
    "recognition_times_knn = []  # To store recognition times for k-NN\n",
    "recognition_times_svm = []  # To store recognition times for SVM\n",
    "recognition_times_lstm = [] #To store recognition times for LSTM\n",
    "recognition_times_gru = [] #To store recognition times for GRU\n",
    "\n",
    "\n",
    "print(\"K-NN \\t SVM \\t LSTM \\t GRU\")\n",
    "while cap.isOpened():\n",
    "    ret, frame = cap.read()\n",
    "\n",
    "    # BGR 2 RGB\n",
    "    image = cv2.cvtColor(frame, cv2.COLOR_BGR2RGB)\n",
    "\n",
    "    # Flip on horizontal\n",
    "    image = cv2.flip(image, 1)\n",
    "    debug_image = copy.deepcopy(image)\n",
    "\n",
    "    # Set flag\n",
    "    image.flags.writeable = False\n",
    "\n",
    "    # Detections\n",
    "    results = hands.process(image)\n",
    "\n",
    "    # Set flag to true\n",
    "    image.flags.writeable = True\n",
    "\n",
    "    # RGB 2 BGR\n",
    "    image = cv2.cvtColor(image, cv2.COLOR_RGB2BGR)\n",
    "    with open(\"label.txt\",'r') as f:\n",
    "        label=f.read().split()\n",
    "        # Rendering results\n",
    "        if results.multi_hand_landmarks:\n",
    "            for hand_landmarks, handedness in zip(results.multi_hand_landmarks, results.multi_handedness):\n",
    "                    landmark_list = calc_landmark_list(debug_image, hand_landmarks)\n",
    "                    pre_processed_landmark_list = pre_process_landmark(landmark_list)\n",
    "                    x, y, w, h = cv2.boundingRect(np.array(landmark_list))\n",
    "                    cv2.rectangle(debug_image, (x, y), (x + w, y + h), (0, 255, 0), 2)\n",
    "                    hand_label = \"Left Hand\" if handedness.classification[0].label == \"Left\" else \"Right Hand\"\n",
    "                    cv2.putText(debug_image, hand_label, (x, y - 10), cv2.FONT_HERSHEY_SIMPLEX, 0.5, (255, 255, 255), 2)\n",
    "                    mp_drawing.draw_landmarks(debug_image, hand_landmarks, mp_hands.HAND_CONNECTIONS,\n",
    "                                                  mp_drawing.DrawingSpec(color=(121, 22, 76), thickness=2, circle_radius=4),\n",
    "                                                  mp_drawing.DrawingSpec(color=(250, 44, 250), thickness=2, circle_radius=2),\n",
    "                                                  )\n",
    "            data2 = pd.DataFrame([pre_processed_landmark_list])\n",
    "            xi = data2.iloc[:,:]\n",
    "\n",
    "            start_time = time.perf_counter()               #Record start time\n",
    "\n",
    "            # Predict using k-NN\n",
    "            pred = knn.predict(xi)\n",
    "            #pred_knn = knn.predict([pre_processed_landmark_list])[0]\n",
    "            end_time = time.perf_counter()                  # Record end time and calculate recognition time\n",
    "            recognition_time_knn = end_time - start_time\n",
    "            recognition_times_knn.append(recognition_time_knn)\n",
    "\n",
    "            # Predict using SVM\n",
    "            spred=clf.predict(xi)\n",
    "            end_time = time.perf_counter()                 # Record end time and calculate recognition time\n",
    "            recognition_time_svm = end_time - start_time\n",
    "            recognition_times_svm.append(recognition_time_svm)\n",
    "\n",
    "            # Predict using LSTM\n",
    "            xi_lstm = np.array(xi).reshape((xi.shape[0], xi.shape[1],1))  # Reshape for LSTM input\n",
    "            predictions_prob = model.predict(xi_lstm)\n",
    "            pred_lstm = np.argmax(predictions_prob,axis=1)\n",
    "            end_time = time.perf_counter()  # Record end time and calculate recognition time\n",
    "            recognition_time_lstm = end_time - start_time\n",
    "            recognition_times_lstm.append(recognition_time_lstm)\n",
    "\n",
    "            # Predict using GRU\n",
    "            xi_gru = np.array(xi).reshape((xi.shape[0], xi.shape[1], 1))  # Reshape for GRU input\n",
    "            predictions_prob = model.predict(xi_gru)\n",
    "            pred_gru = np.argmax(predictions_prob, axis=1)\n",
    "            end_time = time.perf_counter()  # Record end time and calculate recognition time\n",
    "            recognition_time_gru = end_time - start_time\n",
    "            recognition_times_gru.append(recognition_time_gru)\n",
    "\n",
    "            op=label[int(pred)]  #knn\n",
    "            sop=label[int(spred)] #svm\n",
    "            lop = label[int(pred_lstm)]  # LSTM\n",
    "            gop = label[int(pred_gru)]  # GRU\n",
    "            print(\" \")\n",
    "            print(op, \"\\t\", sop, \"\\t\", lop, \"\\t\", gop)\n",
    "\n",
    "            predictions = [op, sop, lop, gop]  # Ensemble predicition\n",
    "            max_vote = max(set(predictions), key=predictions.count)\n",
    "            print(\"\\nEnsemble Prediction:\", max_vote)\n",
    "            print(\" \")\n",
    "\n",
    "            time.sleep(1)\n",
    "            cv2.putText(debug_image,str(op), (x, y), cv2.FONT_HERSHEY_SIMPLEX, 0.5, (200, 255, 255), 2)\n",
    "            time.sleep(1)\n",
    "            cv2.imshow('Hand Tracking', debug_image)\n",
    "\n",
    "            if cv2.waitKey(400) & 0xFF == ord('q'):\n",
    "                break\n",
    "print(\" \")\n",
    "# Calculate and print average recognition time for k-NN\n",
    "avg_recognition_time_knn = sum(recognition_times_knn) / len(recognition_times_knn)\n",
    "print(\"Average Recognition Time (k-NN):\", avg_recognition_time_knn*1000, \"ms\")\n",
    "\n",
    "# Calculate and print average recognition time for SVM\n",
    "avg_recognition_time_svm = sum(recognition_times_svm) / len(recognition_times_svm)\n",
    "print(\"Average Recognition Time (SVM):\", avg_recognition_time_svm*1000, \"ms\")\n",
    "\n",
    "# Calculate and print average recognition time for LSTM\n",
    "avg_recognition_time_lstm = sum(recognition_times_lstm) / len(recognition_times_lstm)\n",
    "print(\"Average Recognition Time (LSTM):\", avg_recognition_time_lstm * 100, \"ms\")\n",
    "\n",
    "# Calculate and print average recognition time for GRU\n",
    "avg_recognition_time_gru = sum(recognition_times_gru) / len(recognition_times_gru)\n",
    "print(\"Average Recognition Time (GRU):\", avg_recognition_time_gru * 100, \"ms\")\n",
    "\n",
    "cap.release()\n",
    "cv2.destroyAllWindows()\n",
    "hands.close()\n"
   ]
  }
 ],
 "metadata": {
  "accelerator": "GPU",
  "colab": {
   "gpuType": "T4",
   "provenance": []
  },
  "kernelspec": {
   "display_name": "venv",
   "language": "python",
   "name": "python3"
  },
  "language_info": {
   "codemirror_mode": {
    "name": "ipython",
    "version": 3
   },
   "file_extension": ".py",
   "mimetype": "text/x-python",
   "name": "python",
   "nbconvert_exporter": "python",
   "pygments_lexer": "ipython3",
   "version": "3.12.0"
  }
 },
 "nbformat": 4,
 "nbformat_minor": 5
}
